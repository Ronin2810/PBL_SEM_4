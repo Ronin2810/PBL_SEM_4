{
 "cells": [
  {
   "cell_type": "code",
   "execution_count": 3,
   "id": "50b58b02",
   "metadata": {},
   "outputs": [
    {
     "name": "stdout",
     "output_type": "stream",
     "text": [
      "Original  Length 2791\n",
      " Real Madrid Club de Fútbol (Spanish pronunciation: [reˈal maˈðɾið ˈkluβ ðe ˈfuðβol] (audio speaker iconlisten), meaning Royal Madrid Football Club), commonly referred to as Real Madrid, is a Spanish professional football club based in Madrid.Founded on 6 March 1902 as Madrid Football Club, the club has traditionally worn a white home kit since inception. The honorific title real is Spanish for \"royal\" and was bestowed to the club by King Alfonso XIII in 1920 together with the royal crown in the emblem. The team has played its home matches in the 81,044-capacity Santiago Bernabéu Stadium in downtown Madrid since 1947. Unlike most European sporting entities, Real Madrid's members (socios) have owned and operated the club throughout its history.The club was estimated to be worth €3.8 billion ($4.2 billion) in 2019, and it was the second highest-earning football club in the world, with an annual revenue of €757.3 million in 2019.[6][7] The club is one of the most widely supported teams in the world.[8] Real Madrid is one of three founding members of La Liga that have never been relegated from the top division since its inception in 1929, along with Athletic Bilbao and Barcelona. The club holds many long-standing rivalries, most notably El Clásico with Barcelona and El Derbi Madrileño with Atlético Madrid.Real Madrid established itself as a major force in both Spanish and European football during the 1950s, winning five consecutive European Cups and reaching the final seven times. This success was replicated in the league, which the club won five times in the space of seven years. This team, which included Alfredo Di Stéfano, Ferenc Puskás, Francisco Gento, and Raymond Kopa, is considered by some in the sport to be the greatest team of all time.[9][10][11]In domestic football, the club has won 67 trophies; a record 34 La Liga titles, 19 Copa del Rey, 12 Supercopa de España, a Copa Eva Duarte, and a Copa de la Liga.[12] In European and worldwide competitions, Real Madrid have won a record 26 trophies; a record 13 European Cup/UEFA Champions League titles, two UEFA Cups and four UEFA Super Cups. In international football, they have achieved a record seven club world championships.[note 1]Real Madrid was recognised as the FIFA Club of the 20th Century on 11 December 2000 with 42.35% of the vote,[14] and received the FIFA Centennial Order of Merit on 20 May 2004.[15] The club was also awarded Best European Club of the 20th Century by the IFFHS on 11 May 2010. In June 2017, the team succeeded in becoming the first club to win consecutive Champions League titles, then made it three in a row and four in five seasons in May 2018, extending their lead atop the UEFA club rankings. As of 2020, Real Madrid are ranked third behind Bayern Munich and Barcelona\n",
      "SUMMARY START\n",
      "This team, which included Alfredo Di Stéfano, Ferenc Puskás, Francisco Gento, and Raymond Kopa, is considered by some in the sport to be the greatest team of all time.[9][10][11]In domestic football, the club has won 67 trophies; a record 34 La Liga titles, 19 Copa del Rey, 12 Supercopa de España, a Copa Eva Duarte, and a Copa de la Liga.[12] In European and worldwide competitions, Real Madrid have won a record 26 trophies; a record 13 European Cup/UEFA Champions League titles, two UEFA Cups and four UEFA Super Cups.  Real Madrid Club de Fútbol (Spanish pronunciation: [reˈal maˈðɾið ˈkluβ ðe ˈfuðβol] (audio speaker iconlisten), meaning Royal Madrid Football Club), commonly referred to as Real Madrid, is a Spanish professional football club based in Madrid. The club was estimated to be worth €3.8 billion ($4.2 billion) in 2019, and it was the second highest-earning football club in the world, with an annual revenue of €757.3 million in 2019.[6][7] In June 2017, the team succeeded in becoming the first club to win consecutive Champions League titles, then made it three in a row and four in five seasons in May 2018, extending their lead atop the UEFA club rankings. Founded on 6 March 1902 as Madrid Football Club, the club has traditionally worn a white home kit since inception. The club was also awarded Best European Club of the 20th Century by the IFFHS on 11 May 2010. In international football, they have achieved a record seven club world championships.[note 1]Real The club is one of the most widely supported teams in the world.[8] Real Madrid is one of three founding members of La Liga that have never been relegated from the top division since its inception in 1929, along with Athletic Bilbao and Barcelona.\n",
      "Summary  Length 1736\n"
     ]
    }
   ],
   "source": [
    "import spacy\n",
    "from spacy.lang.en.stop_words import STOP_WORDS\n",
    "from string import punctuation\n",
    "from heapq import nlargest\n",
    "\n",
    "def makesummary(text):\n",
    "    stopwords = list(STOP_WORDS)\n",
    "    nlp = spacy.load('en_core_web_sm') \n",
    "    doc = nlp(text) \n",
    "    tokens = [token.text for token in doc]\n",
    "    punctuation='!\"#$%&\\'()*+,-./:;<=>?@[\\\\]^_`{|}~\\n'\n",
    "\n",
    "    word_fq = {}\n",
    "    for word in  doc:\n",
    "        if word.text.lower() not in stopwords:\n",
    "            if word.text.lower() not in punctuation:\n",
    "                if word.text not in word_fq.keys():\n",
    "                    word_fq[word.text] = 1\n",
    "                else:\n",
    "                    word_fq[word.text]+=1\n",
    "\n",
    "                    \n",
    "    max_fq = max(word_fq.values())\n",
    "    for word in word_fq.keys():\n",
    "            word_fq[word] = word_fq[word]/max_fq\n",
    "            \n",
    "            \n",
    "    s_tokens = [sent for sent in doc.sents]\n",
    "\n",
    "    s_score = {}\n",
    "    for sent in s_tokens:\n",
    "        for word in sent:\n",
    "            if word.text.lower() in word_fq.keys():\n",
    "                if sent not in s_score.keys():\n",
    "                    s_score[sent]= word_fq[word.text.lower()]\n",
    "                else:\n",
    "                    s_score[sent]+= word_fq[word.text.lower()]\n",
    "                    \n",
    "\n",
    "    s_length = int(len(s_tokens)*0.5)\n",
    "    summary = nlargest(s_length,s_score,key =s_score.get)\n",
    "    f_sum = [word.text for word in summary]\n",
    "    summary = \" \".join(f_sum)\n",
    "    print(summary)\n",
    "    return len(summary)\n",
    "    \n",
    "x = ''' Real Madrid Club de Fútbol (Spanish pronunciation: [reˈal maˈðɾið ˈkluβ ðe ˈfuðβol] (audio speaker iconlisten), meaning Royal Madrid Football Club), commonly referred to as Real Madrid, is a Spanish professional football club based in Madrid.Founded on 6 March 1902 as Madrid Football Club, the club has traditionally worn a white home kit since inception. The honorific title real is Spanish for \"royal\" and was bestowed to the club by King Alfonso XIII in 1920 together with the royal crown in the emblem. The team has played its home matches in the 81,044-capacity Santiago Bernabéu Stadium in downtown Madrid since 1947. Unlike most European sporting entities, Real Madrid's members (socios) have owned and operated the club throughout its history.The club was estimated to be worth €3.8 billion ($4.2 billion) in 2019, and it was the second highest-earning football club in the world, with an annual revenue of €757.3 million in 2019.[6][7] The club is one of the most widely supported teams in the world.[8] Real Madrid is one of three founding members of La Liga that have never been relegated from the top division since its inception in 1929, along with Athletic Bilbao and Barcelona. The club holds many long-standing rivalries, most notably El Clásico with Barcelona and El Derbi Madrileño with Atlético Madrid.Real Madrid established itself as a major force in both Spanish and European football during the 1950s, winning five consecutive European Cups and reaching the final seven times. This success was replicated in the league, which the club won five times in the space of seven years. This team, which included Alfredo Di Stéfano, Ferenc Puskás, Francisco Gento, and Raymond Kopa, is considered by some in the sport to be the greatest team of all time.[9][10][11]In domestic football, the club has won 67 trophies; a record 34 La Liga titles, 19 Copa del Rey, 12 Supercopa de España, a Copa Eva Duarte, and a Copa de la Liga.[12] In European and worldwide competitions, Real Madrid have won a record 26 trophies; a record 13 European Cup/UEFA Champions League titles, two UEFA Cups and four UEFA Super Cups. In international football, they have achieved a record seven club world championships.[note 1]Real Madrid was recognised as the FIFA Club of the 20th Century on 11 December 2000 with 42.35% of the vote,[14] and received the FIFA Centennial Order of Merit on 20 May 2004.[15] The club was also awarded Best European Club of the 20th Century by the IFFHS on 11 May 2010. In June 2017, the team succeeded in becoming the first club to win consecutive Champions League titles, then made it three in a row and four in five seasons in May 2018, extending their lead atop the UEFA club rankings. As of 2020, Real Madrid are ranked third behind Bayern Munich and Barcelona'''\n",
    "print(\"Original \",\"Length\",len(x))\n",
    "print(x)\n",
    "print(\"SUMMARY START\")\n",
    "t = makesummary(x)\n",
    "print(\"Summary \",\"Length\",t)\n"
   ]
  },
  {
   "cell_type": "code",
   "execution_count": null,
   "id": "35a207d8",
   "metadata": {},
   "outputs": [],
   "source": []
  }
 ],
 "metadata": {
  "kernelspec": {
   "display_name": "Python 3 (ipykernel)",
   "language": "python",
   "name": "python3"
  },
  "language_info": {
   "codemirror_mode": {
    "name": "ipython",
    "version": 3
   },
   "file_extension": ".py",
   "mimetype": "text/x-python",
   "name": "python",
   "nbconvert_exporter": "python",
   "pygments_lexer": "ipython3",
   "version": "3.9.7"
  }
 },
 "nbformat": 4,
 "nbformat_minor": 5
}
